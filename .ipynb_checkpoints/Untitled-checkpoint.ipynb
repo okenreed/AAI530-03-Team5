{
 "cells": [
  {
   "cell_type": "code",
   "execution_count": 1,
   "id": "16024565",
   "metadata": {},
   "outputs": [],
   "source": [
    "import pandas as pd\n",
    "import matplotlib.pyplot as plt\n",
    "import numpy as np\n",
    "import seaborn as sns"
   ]
  },
  {
   "cell_type": "code",
   "execution_count": 4,
   "id": "547b6f8a",
   "metadata": {},
   "outputs": [],
   "source": [
    "parking = pd.read_csv('aarhus_parking.csv')"
   ]
  },
  {
   "cell_type": "code",
   "execution_count": 5,
   "id": "ced92d3b",
   "metadata": {},
   "outputs": [],
   "source": [
    "df_raw = pd.DataFrame(parking)"
   ]
  },
  {
   "cell_type": "code",
   "execution_count": 25,
   "id": "c2647a4b",
   "metadata": {},
   "outputs": [
    {
     "data": {
      "text/plain": [
       "_id                      int64\n",
       "updatetime              object\n",
       "streamtime              object\n",
       "Datetime        datetime64[ns]\n",
       "date                    object\n",
       "time                    object\n",
       "vehiclecount             int64\n",
       "totalspaces              int64\n",
       "garagecode              object\n",
       "dtype: object"
      ]
     },
     "execution_count": 25,
     "metadata": {},
     "output_type": "execute_result"
    }
   ],
   "source": [
    "df_raw.dtypes\n"
   ]
  },
  {
   "cell_type": "code",
   "execution_count": 14,
   "id": "ba404254",
   "metadata": {},
   "outputs": [],
   "source": [
    "df_raw['Datetime'] = pd.to_datetime(df_raw['updatetime'])\n",
    "df_raw['date'] = df_raw['Datetime'].dt.date\n",
    "df_raw['time'] = df_raw['Datetime'].dt.time"
   ]
  },
  {
   "cell_type": "code",
   "execution_count": 16,
   "id": "faf13768",
   "metadata": {},
   "outputs": [
    {
     "data": {
      "text/plain": [
       "Index(['vehiclecount', 'updatetime', '_id', 'totalspaces', 'garagecode',\n",
       "       'streamtime', 'Datetime', 'date', 'time'],\n",
       "      dtype='object')"
      ]
     },
     "execution_count": 16,
     "metadata": {},
     "output_type": "execute_result"
    }
   ],
   "source": [
    "df_raw.columns"
   ]
  },
  {
   "cell_type": "code",
   "execution_count": 24,
   "id": "9a07ef04",
   "metadata": {},
   "outputs": [
    {
     "data": {
      "text/html": [
       "<div>\n",
       "<style scoped>\n",
       "    .dataframe tbody tr th:only-of-type {\n",
       "        vertical-align: middle;\n",
       "    }\n",
       "\n",
       "    .dataframe tbody tr th {\n",
       "        vertical-align: top;\n",
       "    }\n",
       "\n",
       "    .dataframe thead th {\n",
       "        text-align: right;\n",
       "    }\n",
       "</style>\n",
       "<table border=\"1\" class=\"dataframe\">\n",
       "  <thead>\n",
       "    <tr style=\"text-align: right;\">\n",
       "      <th></th>\n",
       "      <th>_id</th>\n",
       "      <th>updatetime</th>\n",
       "      <th>streamtime</th>\n",
       "      <th>Datetime</th>\n",
       "      <th>date</th>\n",
       "      <th>time</th>\n",
       "      <th>vehiclecount</th>\n",
       "      <th>totalspaces</th>\n",
       "      <th>garagecode</th>\n",
       "    </tr>\n",
       "  </thead>\n",
       "  <tbody>\n",
       "    <tr>\n",
       "      <th>0</th>\n",
       "      <td>1</td>\n",
       "      <td>2014-05-22 09:09:04.145</td>\n",
       "      <td>2014-11-03 16:18:44</td>\n",
       "      <td>2014-05-22 09:09:04.145</td>\n",
       "      <td>2014-05-22</td>\n",
       "      <td>09:09:04.145000</td>\n",
       "      <td>0</td>\n",
       "      <td>65</td>\n",
       "      <td>NORREPORT</td>\n",
       "    </tr>\n",
       "    <tr>\n",
       "      <th>1</th>\n",
       "      <td>2</td>\n",
       "      <td>2014-05-22 09:09:04.145</td>\n",
       "      <td>2014-11-03 16:18:44</td>\n",
       "      <td>2014-05-22 09:09:04.145</td>\n",
       "      <td>2014-05-22</td>\n",
       "      <td>09:09:04.145000</td>\n",
       "      <td>0</td>\n",
       "      <td>512</td>\n",
       "      <td>SKOLEBAKKEN</td>\n",
       "    </tr>\n",
       "    <tr>\n",
       "      <th>2</th>\n",
       "      <td>3</td>\n",
       "      <td>2014-05-22 09:09:04.145</td>\n",
       "      <td>2014-11-03 16:18:44</td>\n",
       "      <td>2014-05-22 09:09:04.145</td>\n",
       "      <td>2014-05-22</td>\n",
       "      <td>09:09:04.145000</td>\n",
       "      <td>869</td>\n",
       "      <td>1240</td>\n",
       "      <td>SCANDCENTER</td>\n",
       "    </tr>\n",
       "    <tr>\n",
       "      <th>3</th>\n",
       "      <td>4</td>\n",
       "      <td>2014-05-22 09:09:04.145</td>\n",
       "      <td>2014-11-03 16:18:44</td>\n",
       "      <td>2014-05-22 09:09:04.145</td>\n",
       "      <td>2014-05-22</td>\n",
       "      <td>09:09:04.145000</td>\n",
       "      <td>22</td>\n",
       "      <td>953</td>\n",
       "      <td>BRUUNS</td>\n",
       "    </tr>\n",
       "    <tr>\n",
       "      <th>4</th>\n",
       "      <td>5</td>\n",
       "      <td>2014-05-22 09:09:04.145</td>\n",
       "      <td>2014-11-03 16:18:44</td>\n",
       "      <td>2014-05-22 09:09:04.145</td>\n",
       "      <td>2014-05-22</td>\n",
       "      <td>09:09:04.145000</td>\n",
       "      <td>124</td>\n",
       "      <td>130</td>\n",
       "      <td>BUSGADEHUSET</td>\n",
       "    </tr>\n",
       "  </tbody>\n",
       "</table>\n",
       "</div>"
      ],
      "text/plain": [
       "   _id               updatetime           streamtime                Datetime  \\\n",
       "0    1  2014-05-22 09:09:04.145  2014-11-03 16:18:44 2014-05-22 09:09:04.145   \n",
       "1    2  2014-05-22 09:09:04.145  2014-11-03 16:18:44 2014-05-22 09:09:04.145   \n",
       "2    3  2014-05-22 09:09:04.145  2014-11-03 16:18:44 2014-05-22 09:09:04.145   \n",
       "3    4  2014-05-22 09:09:04.145  2014-11-03 16:18:44 2014-05-22 09:09:04.145   \n",
       "4    5  2014-05-22 09:09:04.145  2014-11-03 16:18:44 2014-05-22 09:09:04.145   \n",
       "\n",
       "         date             time  vehiclecount  totalspaces    garagecode  \n",
       "0  2014-05-22  09:09:04.145000             0           65     NORREPORT  \n",
       "1  2014-05-22  09:09:04.145000             0          512   SKOLEBAKKEN  \n",
       "2  2014-05-22  09:09:04.145000           869         1240   SCANDCENTER  \n",
       "3  2014-05-22  09:09:04.145000            22          953        BRUUNS  \n",
       "4  2014-05-22  09:09:04.145000           124          130  BUSGADEHUSET  "
      ]
     },
     "execution_count": 24,
     "metadata": {},
     "output_type": "execute_result"
    }
   ],
   "source": [
    "order = ['_id','updatetime', 'streamtime', 'Datetime', 'date', 'time','vehiclecount', 'totalspaces', 'garagecode']\n",
    "df_raw = df_raw[order]\n",
    "df_raw.head()"
   ]
  },
  {
   "cell_type": "code",
   "execution_count": 27,
   "id": "c5edb054",
   "metadata": {},
   "outputs": [],
   "source": [
    "df_raw['date'] = pd.to_datetime(df_raw['date'])\n",
    "df_raw['weekday'] = df_raw['date'].dt.dayofweek\n",
    "weekday_names = {0: 'Monday', 1: 'Tuesday', 2: 'Wednesday', 3: 'Thursday',\n",
    "                 4: 'Friday', 5: 'Saturday', 6: 'Sunday'}\n",
    "df_raw['weekday_name'] = df_raw['weekday'].map(weekday_names)"
   ]
  },
  {
   "cell_type": "code",
   "execution_count": 29,
   "id": "cb15525d",
   "metadata": {},
   "outputs": [],
   "source": [
    "#df_raw.to_csv('parking_data.csv', index=False)"
   ]
  },
  {
   "cell_type": "markdown",
   "id": "157207b8",
   "metadata": {},
   "source": [
    "# LSTM"
   ]
  },
  {
   "cell_type": "code",
   "execution_count": 41,
   "id": "b241499f",
   "metadata": {},
   "outputs": [
    {
     "name": "stdout",
     "output_type": "stream",
     "text": [
      "WARNING:tensorflow:From C:\\Users\\carlo\\anaconda3\\Lib\\site-packages\\keras\\src\\losses.py:2976: The name tf.losses.sparse_softmax_cross_entropy is deprecated. Please use tf.compat.v1.losses.sparse_softmax_cross_entropy instead.\n",
      "\n"
     ]
    }
   ],
   "source": [
    "import pandas as pd\n",
    "from sklearn.preprocessing import MinMaxScaler\n",
    "import numpy as np\n",
    "from sklearn.model_selection import train_test_split\n",
    "from tensorflow.keras.models import Sequential\n",
    "from tensorflow.keras.layers import LSTM, Dropout, Dense\n",
    "from tensorflow.keras.callbacks import EarlyStopping, ModelCheckpoint\n",
    "import tensorflow.keras.optimizers as optimizers"
   ]
  },
  {
   "cell_type": "code",
   "execution_count": 42,
   "id": "558f883a",
   "metadata": {},
   "outputs": [],
   "source": [
    "data = pd.read_csv('parking_data.csv')\n",
    "df = pd.DataFrame(data)\n"
   ]
  },
  {
   "cell_type": "code",
   "execution_count": 43,
   "id": "dc8407b1",
   "metadata": {},
   "outputs": [],
   "source": [
    "df['date'] = pd.to_datetime(df['date'])\n",
    "df['weekday'] = df['date'].dt.dayofweek\n",
    "df['hour'] = df['date'].dt.hour\n",
    "\n",
    "# One-hot encode 'garagecode'\n",
    "df = pd.get_dummies(df, columns=['garagecode'])\n",
    "values = df.values"
   ]
  },
  {
   "cell_type": "code",
   "execution_count": 49,
   "id": "d299389b",
   "metadata": {},
   "outputs": [
    {
     "data": {
      "text/plain": [
       "_id                                  int64\n",
       "updatetime                          object\n",
       "streamtime                          object\n",
       "Datetime                            object\n",
       "date                        datetime64[ns]\n",
       "time                                object\n",
       "vehiclecount                       float64\n",
       "totalspaces                          int64\n",
       "weekday                              int64\n",
       "weekday_name                        object\n",
       "hour                                 int64\n",
       "garagecode_BRUUNS                    uint8\n",
       "garagecode_BUSGADEHUSET              uint8\n",
       "garagecode_KALKVAERKSVEJ             uint8\n",
       "garagecode_MAGASIN                   uint8\n",
       "garagecode_NORREPORT                 uint8\n",
       "garagecode_SALLING                   uint8\n",
       "garagecode_SCANDCENTER               uint8\n",
       "garagecode_SKOLEBAKKEN               uint8\n",
       "dtype: object"
      ]
     },
     "execution_count": 49,
     "metadata": {},
     "output_type": "execute_result"
    }
   ],
   "source": [
    "df.dtypes"
   ]
  },
  {
   "cell_type": "code",
   "execution_count": 44,
   "id": "929f4d58",
   "metadata": {},
   "outputs": [],
   "source": [
    "scaler = MinMaxScaler()\n",
    "df['vehiclecount'] = scaler.fit_transform(df[['vehiclecount']])"
   ]
  },
  {
   "cell_type": "code",
   "execution_count": 45,
   "id": "20c23cdf",
   "metadata": {},
   "outputs": [],
   "source": [
    "def create_sequences(data, n_steps):\n",
    "    X, y = [], []\n",
    "    for i in range(len(data)):\n",
    "        # Find the end of the current sequence\n",
    "        end_ix = i + n_steps\n",
    "        # Check if we are beyond the dataset\n",
    "        if end_ix > len(data)-1:\n",
    "            break\n",
    "        # Gather input and output parts of the pattern\n",
    "        seq_x, seq_y = data[i:end_ix, :-1], data[end_ix, -1]\n",
    "        X.append(seq_x)\n",
    "        y.append(seq_y)\n",
    "    return np.array(X), np.array(y)\n",
    "\n",
    "# Assuming df is ready and sorted by datetime\n",
    "values = df.values\n",
    "n_features = df.shape[1]  # Number of features\n",
    "n_steps = 48  # Number of time steps you're looking back\n",
    "\n",
    "# Prepare the sequences\n",
    "X, y = create_sequences(values, n_steps)"
   ]
  },
  {
   "cell_type": "code",
   "execution_count": 46,
   "id": "bb71281b",
   "metadata": {},
   "outputs": [],
   "source": [
    "X_train, X_test, y_train, y_test = train_test_split(X, y, test_size=0.2, random_state=42)"
   ]
  },
  {
   "cell_type": "code",
   "execution_count": 48,
   "id": "06fbc27b",
   "metadata": {
    "scrolled": false
   },
   "outputs": [
    {
     "name": "stdout",
     "output_type": "stream",
     "text": [
      "Model: \"sequential_1\"\n",
      "_________________________________________________________________\n",
      " Layer (type)                Output Shape              Param #   \n",
      "=================================================================\n",
      " lstm_2 (LSTM)               (None, 48, 5)             480       \n",
      "                                                                 \n",
      " dropout_2 (Dropout)         (None, 48, 5)             0         \n",
      "                                                                 \n",
      " lstm_3 (LSTM)               (None, 3)                 108       \n",
      "                                                                 \n",
      " dropout_3 (Dropout)         (None, 3)                 0         \n",
      "                                                                 \n",
      " dense_1 (Dense)             (None, 1)                 4         \n",
      "                                                                 \n",
      "=================================================================\n",
      "Total params: 592 (2.31 KB)\n",
      "Trainable params: 592 (2.31 KB)\n",
      "Non-trainable params: 0 (0.00 Byte)\n",
      "_________________________________________________________________\n",
      "None\n"
     ]
    },
    {
     "ename": "ValueError",
     "evalue": "could not convert string to float: '2014-06-01 00:12:54.786'",
     "output_type": "error",
     "traceback": [
      "\u001b[1;31m---------------------------------------------------------------------------\u001b[0m",
      "\u001b[1;31mValueError\u001b[0m                                Traceback (most recent call last)",
      "Cell \u001b[1;32mIn[48], line 28\u001b[0m\n\u001b[0;32m     25\u001b[0m \u001b[38;5;28mprint\u001b[39m(model\u001b[38;5;241m.\u001b[39msummary())\n\u001b[0;32m     27\u001b[0m \u001b[38;5;66;03m# Ensure the data is of type float32\u001b[39;00m\n\u001b[1;32m---> 28\u001b[0m X_train \u001b[38;5;241m=\u001b[39m X_train\u001b[38;5;241m.\u001b[39mastype(\u001b[38;5;124m'\u001b[39m\u001b[38;5;124mfloat32\u001b[39m\u001b[38;5;124m'\u001b[39m)\n\u001b[0;32m     29\u001b[0m y_train \u001b[38;5;241m=\u001b[39m y_train\u001b[38;5;241m.\u001b[39mastype(\u001b[38;5;124m'\u001b[39m\u001b[38;5;124mfloat32\u001b[39m\u001b[38;5;124m'\u001b[39m)\n\u001b[0;32m     31\u001b[0m \u001b[38;5;66;03m# Define callbacks\u001b[39;00m\n",
      "\u001b[1;31mValueError\u001b[0m: could not convert string to float: '2014-06-01 00:12:54.786'"
     ]
    }
   ],
   "source": [
    "seq_length = X_train.shape[1]  # Example: 3 if you're using 3 time steps\n",
    "nb_features = X_train.shape[2]  # Number of features in your input\n",
    "nb_out = 1  # For regression tasks, typically 1 output node\n",
    "\n",
    "model = Sequential()\n",
    "\n",
    "# Add first LSTM layer\n",
    "model.add(LSTM(input_shape=(seq_length, nb_features),\n",
    "               units=5, \n",
    "               return_sequences=True))\n",
    "model.add(Dropout(0.2)) \n",
    "\n",
    "# Add second LSTM layer\n",
    "model.add(LSTM(units=3, return_sequences=False))\n",
    "model.add(Dropout(0.2))\n",
    "\n",
    "# Add output layer\n",
    "model.add(Dense(units=nb_out, activation='linear'))  # Use 'linear' for regression tasks\n",
    "\n",
    "# Compile the model\n",
    "optimizer = optimizers.Adam(learning_rate=0.01)\n",
    "model.compile(loss='mean_squared_error', optimizer=optimizer, metrics=['mse'])\n",
    "\n",
    "# Model summary\n",
    "print(model.summary())\n",
    "\n",
    "# Ensure the data is of type float32\n",
    "X_train = X_train.astype('float32')\n",
    "y_train = y_train.astype('float32')\n",
    "\n",
    "# Define callbacks\n",
    "callbacks = [\n",
    "    EarlyStopping(monitor='val_loss', min_delta=0, patience=10, verbose=0, mode='min'),\n",
    "    ModelCheckpoint('model.h5', monitor='val_loss', save_best_only=True, mode='min', verbose=0)\n",
    "]\n",
    "\n",
    "# Fit the network\n",
    "history = model.fit(X_train, y_train, epochs=100, batch_size=500, validation_split=0.05, verbose=2, callbacks=callbacks)\n",
    "# List all data in history\n",
    "print(history.history.keys())"
   ]
  },
  {
   "cell_type": "code",
   "execution_count": null,
   "id": "67ee80ec",
   "metadata": {},
   "outputs": [],
   "source": []
  },
  {
   "cell_type": "code",
   "execution_count": null,
   "id": "b37f7995",
   "metadata": {},
   "outputs": [],
   "source": []
  }
 ],
 "metadata": {
  "kernelspec": {
   "display_name": "Python 3 (ipykernel)",
   "language": "python",
   "name": "python3"
  },
  "language_info": {
   "codemirror_mode": {
    "name": "ipython",
    "version": 3
   },
   "file_extension": ".py",
   "mimetype": "text/x-python",
   "name": "python",
   "nbconvert_exporter": "python",
   "pygments_lexer": "ipython3",
   "version": "3.11.4"
  }
 },
 "nbformat": 4,
 "nbformat_minor": 5
}
