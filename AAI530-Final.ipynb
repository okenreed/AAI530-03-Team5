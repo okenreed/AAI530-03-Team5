{
 "cells": [
  {
   "cell_type": "markdown",
   "metadata": {},
   "source": [
    "## Imports and Helper Functions"
   ]
  },
  {
   "cell_type": "code",
   "execution_count": 2,
   "metadata": {},
   "outputs": [],
   "source": [
    "import pandas as pd\n",
    "import matplotlib.pyplot as plt\n",
    "import numpy as np\n",
    "import seaborn as sns"
   ]
  },
  {
   "cell_type": "markdown",
   "metadata": {},
   "source": [
    "## Loading and cleaning data"
   ]
  },
  {
   "cell_type": "code",
   "execution_count": 4,
   "metadata": {},
   "outputs": [
    {
     "data": {
      "text/html": [
       "<div>\n",
       "<style scoped>\n",
       "    .dataframe tbody tr th:only-of-type {\n",
       "        vertical-align: middle;\n",
       "    }\n",
       "\n",
       "    .dataframe tbody tr th {\n",
       "        vertical-align: top;\n",
       "    }\n",
       "\n",
       "    .dataframe thead th {\n",
       "        text-align: right;\n",
       "    }\n",
       "</style>\n",
       "<table border=\"1\" class=\"dataframe\">\n",
       "  <thead>\n",
       "    <tr style=\"text-align: right;\">\n",
       "      <th></th>\n",
       "      <th>vehiclecount</th>\n",
       "      <th>updatetime</th>\n",
       "      <th>_id</th>\n",
       "      <th>totalspaces</th>\n",
       "      <th>garagecode</th>\n",
       "      <th>streamtime</th>\n",
       "    </tr>\n",
       "  </thead>\n",
       "  <tbody>\n",
       "    <tr>\n",
       "      <th>0</th>\n",
       "      <td>0</td>\n",
       "      <td>2014-05-22 09:09:04.145</td>\n",
       "      <td>1</td>\n",
       "      <td>65</td>\n",
       "      <td>NORREPORT</td>\n",
       "      <td>2014-11-03 16:18:44</td>\n",
       "    </tr>\n",
       "    <tr>\n",
       "      <th>1</th>\n",
       "      <td>0</td>\n",
       "      <td>2014-05-22 09:09:04.145</td>\n",
       "      <td>2</td>\n",
       "      <td>512</td>\n",
       "      <td>SKOLEBAKKEN</td>\n",
       "      <td>2014-11-03 16:18:44</td>\n",
       "    </tr>\n",
       "    <tr>\n",
       "      <th>2</th>\n",
       "      <td>869</td>\n",
       "      <td>2014-05-22 09:09:04.145</td>\n",
       "      <td>3</td>\n",
       "      <td>1240</td>\n",
       "      <td>SCANDCENTER</td>\n",
       "      <td>2014-11-03 16:18:44</td>\n",
       "    </tr>\n",
       "    <tr>\n",
       "      <th>3</th>\n",
       "      <td>22</td>\n",
       "      <td>2014-05-22 09:09:04.145</td>\n",
       "      <td>4</td>\n",
       "      <td>953</td>\n",
       "      <td>BRUUNS</td>\n",
       "      <td>2014-11-03 16:18:44</td>\n",
       "    </tr>\n",
       "    <tr>\n",
       "      <th>4</th>\n",
       "      <td>124</td>\n",
       "      <td>2014-05-22 09:09:04.145</td>\n",
       "      <td>5</td>\n",
       "      <td>130</td>\n",
       "      <td>BUSGADEHUSET</td>\n",
       "      <td>2014-11-03 16:18:44</td>\n",
       "    </tr>\n",
       "    <tr>\n",
       "      <th>5</th>\n",
       "      <td>106</td>\n",
       "      <td>2014-05-22 09:09:04.145</td>\n",
       "      <td>6</td>\n",
       "      <td>400</td>\n",
       "      <td>MAGASIN</td>\n",
       "      <td>2014-11-03 16:18:44</td>\n",
       "    </tr>\n",
       "    <tr>\n",
       "      <th>6</th>\n",
       "      <td>115</td>\n",
       "      <td>2014-05-22 09:09:04.145</td>\n",
       "      <td>7</td>\n",
       "      <td>210</td>\n",
       "      <td>KALKVAERKSVEJ</td>\n",
       "      <td>2014-11-03 16:18:44</td>\n",
       "    </tr>\n",
       "    <tr>\n",
       "      <th>7</th>\n",
       "      <td>233</td>\n",
       "      <td>2014-05-22 09:09:04.145</td>\n",
       "      <td>8</td>\n",
       "      <td>700</td>\n",
       "      <td>SALLING</td>\n",
       "      <td>2014-11-03 16:18:44</td>\n",
       "    </tr>\n",
       "    <tr>\n",
       "      <th>8</th>\n",
       "      <td>0</td>\n",
       "      <td>2014-05-22 09:39:01.803</td>\n",
       "      <td>9</td>\n",
       "      <td>65</td>\n",
       "      <td>NORREPORT</td>\n",
       "      <td>2014-11-03 16:18:44</td>\n",
       "    </tr>\n",
       "    <tr>\n",
       "      <th>9</th>\n",
       "      <td>0</td>\n",
       "      <td>2014-05-22 09:39:01.803</td>\n",
       "      <td>10</td>\n",
       "      <td>512</td>\n",
       "      <td>SKOLEBAKKEN</td>\n",
       "      <td>2014-11-03 16:18:44</td>\n",
       "    </tr>\n",
       "  </tbody>\n",
       "</table>\n",
       "</div>"
      ],
      "text/plain": [
       "   vehiclecount               updatetime  _id  totalspaces     garagecode  \\\n",
       "0             0  2014-05-22 09:09:04.145    1           65      NORREPORT   \n",
       "1             0  2014-05-22 09:09:04.145    2          512    SKOLEBAKKEN   \n",
       "2           869  2014-05-22 09:09:04.145    3         1240    SCANDCENTER   \n",
       "3            22  2014-05-22 09:09:04.145    4          953         BRUUNS   \n",
       "4           124  2014-05-22 09:09:04.145    5          130   BUSGADEHUSET   \n",
       "5           106  2014-05-22 09:09:04.145    6          400        MAGASIN   \n",
       "6           115  2014-05-22 09:09:04.145    7          210  KALKVAERKSVEJ   \n",
       "7           233  2014-05-22 09:09:04.145    8          700        SALLING   \n",
       "8             0  2014-05-22 09:39:01.803    9           65      NORREPORT   \n",
       "9             0  2014-05-22 09:39:01.803   10          512    SKOLEBAKKEN   \n",
       "\n",
       "            streamtime  \n",
       "0  2014-11-03 16:18:44  \n",
       "1  2014-11-03 16:18:44  \n",
       "2  2014-11-03 16:18:44  \n",
       "3  2014-11-03 16:18:44  \n",
       "4  2014-11-03 16:18:44  \n",
       "5  2014-11-03 16:18:44  \n",
       "6  2014-11-03 16:18:44  \n",
       "7  2014-11-03 16:18:44  \n",
       "8  2014-11-03 16:18:44  \n",
       "9  2014-11-03 16:18:44  "
      ]
     },
     "execution_count": 4,
     "metadata": {},
     "output_type": "execute_result"
    }
   ],
   "source": [
    "file = 'aarhus_parking.csv'\n",
    "df_raw = pd.read_csv(file)\n",
    "\n",
    "df_raw.head(10)"
   ]
  },
  {
   "cell_type": "code",
   "execution_count": 5,
   "metadata": {},
   "outputs": [
    {
     "data": {
      "text/html": [
       "<div>\n",
       "<style scoped>\n",
       "    .dataframe tbody tr th:only-of-type {\n",
       "        vertical-align: middle;\n",
       "    }\n",
       "\n",
       "    .dataframe tbody tr th {\n",
       "        vertical-align: top;\n",
       "    }\n",
       "\n",
       "    .dataframe thead th {\n",
       "        text-align: right;\n",
       "    }\n",
       "</style>\n",
       "<table border=\"1\" class=\"dataframe\">\n",
       "  <thead>\n",
       "    <tr style=\"text-align: right;\">\n",
       "      <th></th>\n",
       "      <th>vehiclecount</th>\n",
       "      <th>_id</th>\n",
       "      <th>totalspaces</th>\n",
       "    </tr>\n",
       "  </thead>\n",
       "  <tbody>\n",
       "    <tr>\n",
       "      <th>count</th>\n",
       "      <td>55264.000000</td>\n",
       "      <td>55264.000000</td>\n",
       "      <td>55264.000000</td>\n",
       "    </tr>\n",
       "    <tr>\n",
       "      <th>mean</th>\n",
       "      <td>192.188387</td>\n",
       "      <td>27667.796468</td>\n",
       "      <td>526.250000</td>\n",
       "    </tr>\n",
       "    <tr>\n",
       "      <th>std</th>\n",
       "      <td>210.500021</td>\n",
       "      <td>15959.295617</td>\n",
       "      <td>388.536895</td>\n",
       "    </tr>\n",
       "    <tr>\n",
       "      <th>min</th>\n",
       "      <td>0.000000</td>\n",
       "      <td>1.000000</td>\n",
       "      <td>65.000000</td>\n",
       "    </tr>\n",
       "    <tr>\n",
       "      <th>25%</th>\n",
       "      <td>32.000000</td>\n",
       "      <td>13855.750000</td>\n",
       "      <td>190.000000</td>\n",
       "    </tr>\n",
       "    <tr>\n",
       "      <th>50%</th>\n",
       "      <td>96.000000</td>\n",
       "      <td>27671.500000</td>\n",
       "      <td>456.000000</td>\n",
       "    </tr>\n",
       "    <tr>\n",
       "      <th>75%</th>\n",
       "      <td>296.000000</td>\n",
       "      <td>41487.250000</td>\n",
       "      <td>763.250000</td>\n",
       "    </tr>\n",
       "    <tr>\n",
       "      <th>max</th>\n",
       "      <td>1464.000000</td>\n",
       "      <td>55303.000000</td>\n",
       "      <td>1240.000000</td>\n",
       "    </tr>\n",
       "  </tbody>\n",
       "</table>\n",
       "</div>"
      ],
      "text/plain": [
       "       vehiclecount           _id   totalspaces\n",
       "count  55264.000000  55264.000000  55264.000000\n",
       "mean     192.188387  27667.796468    526.250000\n",
       "std      210.500021  15959.295617    388.536895\n",
       "min        0.000000      1.000000     65.000000\n",
       "25%       32.000000  13855.750000    190.000000\n",
       "50%       96.000000  27671.500000    456.000000\n",
       "75%      296.000000  41487.250000    763.250000\n",
       "max     1464.000000  55303.000000   1240.000000"
      ]
     },
     "execution_count": 5,
     "metadata": {},
     "output_type": "execute_result"
    }
   ],
   "source": [
    "df_raw.describe()"
   ]
  },
  {
   "cell_type": "code",
   "execution_count": 6,
   "metadata": {},
   "outputs": [
    {
     "data": {
      "text/plain": [
       "vehiclecount     int64\n",
       "updatetime      object\n",
       "_id              int64\n",
       "totalspaces      int64\n",
       "garagecode      object\n",
       "streamtime      object\n",
       "dtype: object"
      ]
     },
     "execution_count": 6,
     "metadata": {},
     "output_type": "execute_result"
    }
   ],
   "source": [
    "df_raw.dtypes"
   ]
  },
  {
   "cell_type": "code",
   "execution_count": 7,
   "metadata": {},
   "outputs": [],
   "source": [
    "df = df_raw.copy()"
   ]
  },
  {
   "cell_type": "code",
   "execution_count": 12,
   "metadata": {},
   "outputs": [],
   "source": [
    "# set time columns to datetimes\n",
    "df['update_datetime'] = pd.to_datetime(df['updatetime'])\n",
    "df['stream_datetime'] = pd.to_datetime(df['streamtime'])"
   ]
  },
  {
   "cell_type": "code",
   "execution_count": 14,
   "metadata": {},
   "outputs": [],
   "source": [
    "# extract date and time\n",
    "df['update_time'] = df['update_datetime'].dt.time\n",
    "df['update_date'] = df['update_datetime'].dt.date\n",
    "\n",
    "df['stream_time'] = df['stream_datetime'].dt.time\n",
    "df['stream_date'] = df['stream_datetime'].dt.date\n",
    "\n",
    "df = df.drop(columns=['updatetime', 'streamtime'])"
   ]
  },
  {
   "cell_type": "code",
   "execution_count": 18,
   "metadata": {},
   "outputs": [
    {
     "data": {
      "text/plain": [
       "<AxesSubplot: >"
      ]
     },
     "execution_count": 18,
     "metadata": {},
     "output_type": "execute_result"
    },
    {
     "data": {
      "image/png": "[encoded data removed]",
      "text/plain": [
       "<Figure size 640x480 with 1 Axes>"
      ]
     },
     "metadata": {},
     "output_type": "display_data"
    }
   ],
   "source": [
    "df.isna().sum().plot.bar()"
   ]
  }
 ],
 "metadata": {
  "kernelspec": {
   "display_name": "Python 3",
   "language": "python",
   "name": "python3"
  },
  "language_info": {
   "codemirror_mode": {
    "name": "ipython",
    "version": 3
   },
   "file_extension": ".py",
   "mimetype": "text/x-python",
   "name": "python",
   "nbconvert_exporter": "python",
   "pygments_lexer": "ipython3",
   "version": "3.10.3"
  }
 },
 "nbformat": 4,
 "nbformat_minor": 2
}
